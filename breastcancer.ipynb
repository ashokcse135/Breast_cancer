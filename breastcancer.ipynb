{
 "cells": [
  {
   "cell_type": "code",
   "execution_count": 1,
   "metadata": {},
   "outputs": [],
   "source": [
    "import pandas as pd\n",
    "import numpy as np\n",
    "\n",
    "from tensorflow.keras.layers import Dense\n",
    "from tensorflow.keras.models import Sequential\n",
    "from sklearn.decomposition import PCA\n",
    "import matplotlib.pyplot as plt\n",
    "from sklearn.model_selection import train_test_split\n",
    "from sklearn.linear_model import LogisticRegression\n"
   ]
  },
  {
   "cell_type": "code",
   "execution_count": 2,
   "metadata": {},
   "outputs": [],
   "source": [
    "f=pd.read_csv(\"data.csv\")\n",
    "#f[\"breastquad\"]=f.breastquad.map({'0':0,'1':1,'2':2,'3':3,'4':4})\n",
    "del f[\"Unnamed: 0\"]"
   ]
  },
  {
   "cell_type": "code",
   "execution_count": 3,
   "metadata": {},
   "outputs": [
    {
     "data": {
      "text/html": [
       "<div>\n",
       "<style scoped>\n",
       "    .dataframe tbody tr th:only-of-type {\n",
       "        vertical-align: middle;\n",
       "    }\n",
       "\n",
       "    .dataframe tbody tr th {\n",
       "        vertical-align: top;\n",
       "    }\n",
       "\n",
       "    .dataframe thead th {\n",
       "        text-align: right;\n",
       "    }\n",
       "</style>\n",
       "<table border=\"1\" class=\"dataframe\">\n",
       "  <thead>\n",
       "    <tr style=\"text-align: right;\">\n",
       "      <th></th>\n",
       "      <th>Class</th>\n",
       "      <th>age</th>\n",
       "      <th>menopause</th>\n",
       "      <th>tumor-size</th>\n",
       "      <th>i0v-0des</th>\n",
       "      <th>0de-caps</th>\n",
       "      <th>deg-malig</th>\n",
       "      <th>breast</th>\n",
       "      <th>breastquad</th>\n",
       "      <th>irradiat</th>\n",
       "    </tr>\n",
       "  </thead>\n",
       "  <tbody>\n",
       "    <tr>\n",
       "      <td>0</td>\n",
       "      <td>0</td>\n",
       "      <td>2</td>\n",
       "      <td>2</td>\n",
       "      <td>6</td>\n",
       "      <td>0</td>\n",
       "      <td>0</td>\n",
       "      <td>3</td>\n",
       "      <td>0</td>\n",
       "      <td>1</td>\n",
       "      <td>0</td>\n",
       "    </tr>\n",
       "    <tr>\n",
       "      <td>1</td>\n",
       "      <td>0</td>\n",
       "      <td>3</td>\n",
       "      <td>2</td>\n",
       "      <td>4</td>\n",
       "      <td>0</td>\n",
       "      <td>0</td>\n",
       "      <td>2</td>\n",
       "      <td>1</td>\n",
       "      <td>2</td>\n",
       "      <td>0</td>\n",
       "    </tr>\n",
       "    <tr>\n",
       "      <td>2</td>\n",
       "      <td>0</td>\n",
       "      <td>3</td>\n",
       "      <td>2</td>\n",
       "      <td>4</td>\n",
       "      <td>0</td>\n",
       "      <td>0</td>\n",
       "      <td>2</td>\n",
       "      <td>0</td>\n",
       "      <td>1</td>\n",
       "      <td>0</td>\n",
       "    </tr>\n",
       "    <tr>\n",
       "      <td>3</td>\n",
       "      <td>0</td>\n",
       "      <td>5</td>\n",
       "      <td>1</td>\n",
       "      <td>3</td>\n",
       "      <td>0</td>\n",
       "      <td>0</td>\n",
       "      <td>2</td>\n",
       "      <td>1</td>\n",
       "      <td>0</td>\n",
       "      <td>0</td>\n",
       "    </tr>\n",
       "    <tr>\n",
       "      <td>4</td>\n",
       "      <td>0</td>\n",
       "      <td>3</td>\n",
       "      <td>2</td>\n",
       "      <td>0</td>\n",
       "      <td>0</td>\n",
       "      <td>0</td>\n",
       "      <td>2</td>\n",
       "      <td>1</td>\n",
       "      <td>3</td>\n",
       "      <td>0</td>\n",
       "    </tr>\n",
       "    <tr>\n",
       "      <td>...</td>\n",
       "      <td>...</td>\n",
       "      <td>...</td>\n",
       "      <td>...</td>\n",
       "      <td>...</td>\n",
       "      <td>...</td>\n",
       "      <td>...</td>\n",
       "      <td>...</td>\n",
       "      <td>...</td>\n",
       "      <td>...</td>\n",
       "      <td>...</td>\n",
       "    </tr>\n",
       "    <tr>\n",
       "      <td>272</td>\n",
       "      <td>1</td>\n",
       "      <td>2</td>\n",
       "      <td>2</td>\n",
       "      <td>6</td>\n",
       "      <td>0</td>\n",
       "      <td>0</td>\n",
       "      <td>2</td>\n",
       "      <td>0</td>\n",
       "      <td>0</td>\n",
       "      <td>0</td>\n",
       "    </tr>\n",
       "    <tr>\n",
       "      <td>273</td>\n",
       "      <td>1</td>\n",
       "      <td>2</td>\n",
       "      <td>2</td>\n",
       "      <td>4</td>\n",
       "      <td>0</td>\n",
       "      <td>0</td>\n",
       "      <td>3</td>\n",
       "      <td>0</td>\n",
       "      <td>0</td>\n",
       "      <td>1</td>\n",
       "    </tr>\n",
       "    <tr>\n",
       "      <td>274</td>\n",
       "      <td>1</td>\n",
       "      <td>5</td>\n",
       "      <td>1</td>\n",
       "      <td>4</td>\n",
       "      <td>0</td>\n",
       "      <td>0</td>\n",
       "      <td>1</td>\n",
       "      <td>1</td>\n",
       "      <td>0</td>\n",
       "      <td>0</td>\n",
       "    </tr>\n",
       "    <tr>\n",
       "      <td>275</td>\n",
       "      <td>1</td>\n",
       "      <td>3</td>\n",
       "      <td>1</td>\n",
       "      <td>6</td>\n",
       "      <td>1</td>\n",
       "      <td>0</td>\n",
       "      <td>3</td>\n",
       "      <td>0</td>\n",
       "      <td>1</td>\n",
       "      <td>0</td>\n",
       "    </tr>\n",
       "    <tr>\n",
       "      <td>276</td>\n",
       "      <td>1</td>\n",
       "      <td>4</td>\n",
       "      <td>1</td>\n",
       "      <td>6</td>\n",
       "      <td>1</td>\n",
       "      <td>0</td>\n",
       "      <td>3</td>\n",
       "      <td>0</td>\n",
       "      <td>1</td>\n",
       "      <td>0</td>\n",
       "    </tr>\n",
       "  </tbody>\n",
       "</table>\n",
       "<p>277 rows × 10 columns</p>\n",
       "</div>"
      ],
      "text/plain": [
       "     Class  age  menopause  tumor-size  i0v-0des  0de-caps  deg-malig  breast  \\\n",
       "0        0    2          2           6         0         0          3       0   \n",
       "1        0    3          2           4         0         0          2       1   \n",
       "2        0    3          2           4         0         0          2       0   \n",
       "3        0    5          1           3         0         0          2       1   \n",
       "4        0    3          2           0         0         0          2       1   \n",
       "..     ...  ...        ...         ...       ...       ...        ...     ...   \n",
       "272      1    2          2           6         0         0          2       0   \n",
       "273      1    2          2           4         0         0          3       0   \n",
       "274      1    5          1           4         0         0          1       1   \n",
       "275      1    3          1           6         1         0          3       0   \n",
       "276      1    4          1           6         1         0          3       0   \n",
       "\n",
       "     breastquad  irradiat  \n",
       "0             1         0  \n",
       "1             2         0  \n",
       "2             1         0  \n",
       "3             0         0  \n",
       "4             3         0  \n",
       "..          ...       ...  \n",
       "272           0         0  \n",
       "273           0         1  \n",
       "274           0         0  \n",
       "275           1         0  \n",
       "276           1         0  \n",
       "\n",
       "[277 rows x 10 columns]"
      ]
     },
     "execution_count": 3,
     "metadata": {},
     "output_type": "execute_result"
    }
   ],
   "source": [
    "f"
   ]
  },
  {
   "cell_type": "code",
   "execution_count": 4,
   "metadata": {},
   "outputs": [],
   "source": [
    "data=np.array(f)\n",
    "np.random.shuffle(data)"
   ]
  },
  {
   "cell_type": "code",
   "execution_count": 5,
   "metadata": {},
   "outputs": [
    {
     "data": {
      "text/plain": [
       "(277, 10)"
      ]
     },
     "execution_count": 5,
     "metadata": {},
     "output_type": "execute_result"
    }
   ],
   "source": [
    "data.shape"
   ]
  },
  {
   "cell_type": "code",
   "execution_count": 6,
   "metadata": {},
   "outputs": [],
   "source": [
    "x,y=np.array(list(map(lambda x: x[:-1],data))),np.array(list(map(lambda x: x[-1],data)))"
   ]
  },
  {
   "cell_type": "code",
   "execution_count": 7,
   "metadata": {},
   "outputs": [
    {
     "data": {
      "text/plain": [
       "((277, 9), (277,))"
      ]
     },
     "execution_count": 7,
     "metadata": {},
     "output_type": "execute_result"
    }
   ],
   "source": [
    "x.shape,y.shape"
   ]
  },
  {
   "cell_type": "code",
   "execution_count": 8,
   "metadata": {},
   "outputs": [],
   "source": [
    "x_train,x_test,y_train,y_test=train_test_split(x,y,test_size=0.2)"
   ]
  },
  {
   "cell_type": "code",
   "execution_count": 9,
   "metadata": {
    "scrolled": true
   },
   "outputs": [
    {
     "name": "stderr",
     "output_type": "stream",
     "text": [
      "/home/harsha/anaconda3/lib/python3.7/site-packages/sklearn/linear_model/logistic.py:432: FutureWarning: Default solver will be changed to 'lbfgs' in 0.22. Specify a solver to silence this warning.\n",
      "  FutureWarning)\n"
     ]
    },
    {
     "data": {
      "text/plain": [
       "LogisticRegression(C=1.0, class_weight=None, dual=False, fit_intercept=True,\n",
       "                   intercept_scaling=1, l1_ratio=None, max_iter=100,\n",
       "                   multi_class='warn', n_jobs=None, penalty='l2',\n",
       "                   random_state=None, solver='warn', tol=0.0001, verbose=0,\n",
       "                   warm_start=False)"
      ]
     },
     "execution_count": 9,
     "metadata": {},
     "output_type": "execute_result"
    }
   ],
   "source": [
    "lr=LogisticRegression()\n",
    "lr.fit(x_train,y_train)"
   ]
  },
  {
   "cell_type": "code",
   "execution_count": 10,
   "metadata": {},
   "outputs": [
    {
     "data": {
      "text/plain": [
       "0.7963800904977375"
      ]
     },
     "execution_count": 10,
     "metadata": {},
     "output_type": "execute_result"
    }
   ],
   "source": [
    "lr.score(x_train,y_train)"
   ]
  },
  {
   "cell_type": "code",
   "execution_count": 11,
   "metadata": {},
   "outputs": [
    {
     "data": {
      "text/plain": [
       "0.7857142857142857"
      ]
     },
     "execution_count": 11,
     "metadata": {},
     "output_type": "execute_result"
    }
   ],
   "source": [
    "lr.score(x_test,y_test)"
   ]
  },
  {
   "cell_type": "code",
   "execution_count": 24,
   "metadata": {},
   "outputs": [],
   "source": [
    "model=Sequential()\n",
    "model.add(Dense(10,input_dim=9,activation=\"relu\"))\n",
    "model.add(Dense(12,activation=\"relu\"))\n",
    "model.add(Dense(8,activation=\"relu\"))\n",
    "model.add(Dense(5,activation=\"relu\"))\n",
    "model.add(Dense(1,activation=\"sigmoid\"))"
   ]
  },
  {
   "cell_type": "code",
   "execution_count": 25,
   "metadata": {},
   "outputs": [],
   "source": [
    "model.compile(loss=\"binary_crossentropy\",optimizer=\"adam\",metrics=[\"accuracy\"])"
   ]
  },
  {
   "cell_type": "code",
   "execution_count": 26,
   "metadata": {},
   "outputs": [
    {
     "name": "stdout",
     "output_type": "stream",
     "text": [
      "Train on 221 samples\n",
      "Epoch 1/30\n",
      "221/221 [==============================] - 1s 4ms/sample - loss: 0.6939 - accuracy: 0.4706\n",
      "Epoch 2/30\n",
      "221/221 [==============================] - 0s 138us/sample - loss: 0.6829 - accuracy: 0.7557\n",
      "Epoch 3/30\n",
      "221/221 [==============================] - 0s 111us/sample - loss: 0.6747 - accuracy: 0.7873\n",
      "Epoch 4/30\n",
      "221/221 [==============================] - 0s 117us/sample - loss: 0.6662 - accuracy: 0.7828\n",
      "Epoch 5/30\n",
      "221/221 [==============================] - 0s 120us/sample - loss: 0.6532 - accuracy: 0.7783\n",
      "Epoch 6/30\n",
      "221/221 [==============================] - 0s 118us/sample - loss: 0.6332 - accuracy: 0.7783\n",
      "Epoch 7/30\n",
      "221/221 [==============================] - 0s 119us/sample - loss: 0.6004 - accuracy: 0.7783\n",
      "Epoch 8/30\n",
      "221/221 [==============================] - 0s 127us/sample - loss: 0.5720 - accuracy: 0.7783\n",
      "Epoch 9/30\n",
      "221/221 [==============================] - 0s 124us/sample - loss: 0.5548 - accuracy: 0.7783\n",
      "Epoch 10/30\n",
      "221/221 [==============================] - 0s 120us/sample - loss: 0.5443 - accuracy: 0.7783\n",
      "Epoch 11/30\n",
      "221/221 [==============================] - 0s 99us/sample - loss: 0.5401 - accuracy: 0.7783\n",
      "Epoch 12/30\n",
      "221/221 [==============================] - 0s 109us/sample - loss: 0.5362 - accuracy: 0.7783\n",
      "Epoch 13/30\n",
      "221/221 [==============================] - 0s 114us/sample - loss: 0.5341 - accuracy: 0.7783\n",
      "Epoch 14/30\n",
      "221/221 [==============================] - 0s 123us/sample - loss: 0.5321 - accuracy: 0.7783\n",
      "Epoch 15/30\n",
      "221/221 [==============================] - 0s 121us/sample - loss: 0.5306 - accuracy: 0.7783\n",
      "Epoch 16/30\n",
      "221/221 [==============================] - 0s 115us/sample - loss: 0.5281 - accuracy: 0.7783\n",
      "Epoch 17/30\n",
      "221/221 [==============================] - 0s 126us/sample - loss: 0.5260 - accuracy: 0.7783\n",
      "Epoch 18/30\n",
      "221/221 [==============================] - 0s 104us/sample - loss: 0.5244 - accuracy: 0.7783\n",
      "Epoch 19/30\n",
      "221/221 [==============================] - 0s 126us/sample - loss: 0.5224 - accuracy: 0.7783\n",
      "Epoch 20/30\n",
      "221/221 [==============================] - 0s 125us/sample - loss: 0.5206 - accuracy: 0.7783\n",
      "Epoch 21/30\n",
      "221/221 [==============================] - 0s 120us/sample - loss: 0.5183 - accuracy: 0.7783\n",
      "Epoch 22/30\n",
      "221/221 [==============================] - 0s 120us/sample - loss: 0.5166 - accuracy: 0.7783\n",
      "Epoch 23/30\n",
      "221/221 [==============================] - 0s 138us/sample - loss: 0.5151 - accuracy: 0.7783\n",
      "Epoch 24/30\n",
      "221/221 [==============================] - 0s 135us/sample - loss: 0.5133 - accuracy: 0.7783\n",
      "Epoch 25/30\n",
      "221/221 [==============================] - 0s 108us/sample - loss: 0.5112 - accuracy: 0.7783\n",
      "Epoch 26/30\n",
      "221/221 [==============================] - 0s 101us/sample - loss: 0.5089 - accuracy: 0.7783\n",
      "Epoch 27/30\n",
      "221/221 [==============================] - 0s 104us/sample - loss: 0.5068 - accuracy: 0.7783\n",
      "Epoch 28/30\n",
      "221/221 [==============================] - 0s 113us/sample - loss: 0.5053 - accuracy: 0.7783\n",
      "Epoch 29/30\n",
      "221/221 [==============================] - 0s 115us/sample - loss: 0.5039 - accuracy: 0.7783\n",
      "Epoch 30/30\n",
      "221/221 [==============================] - 0s 105us/sample - loss: 0.5027 - accuracy: 0.7783\n"
     ]
    },
    {
     "data": {
      "text/plain": [
       "<tensorflow.python.keras.callbacks.History at 0x7fcc4c275a10>"
      ]
     },
     "execution_count": 26,
     "metadata": {},
     "output_type": "execute_result"
    }
   ],
   "source": [
    "model.fit(x_train,y_train,epochs=30)"
   ]
  },
  {
   "cell_type": "code",
   "execution_count": 28,
   "metadata": {},
   "outputs": [
    {
     "name": "stdout",
     "output_type": "stream",
     "text": [
      "56/1 - 0s - loss: 0.6226 - accuracy: 0.7679\n"
     ]
    },
    {
     "data": {
      "text/plain": [
       "[0.5267702766827175, 0.76785713]"
      ]
     },
     "execution_count": 28,
     "metadata": {},
     "output_type": "execute_result"
    }
   ],
   "source": [
    "model.evaluate(x_test,y_test,verbose=2)"
   ]
  },
  {
   "cell_type": "code",
   "execution_count": null,
   "metadata": {},
   "outputs": [],
   "source": []
  }
 ],
 "metadata": {
  "kernelspec": {
   "display_name": "Python 3",
   "language": "python",
   "name": "python3"
  },
  "language_info": {
   "codemirror_mode": {
    "name": "ipython",
    "version": 3
   },
   "file_extension": ".py",
   "mimetype": "text/x-python",
   "name": "python",
   "nbconvert_exporter": "python",
   "pygments_lexer": "ipython3",
   "version": "3.7.4"
  }
 },
 "nbformat": 4,
 "nbformat_minor": 2
}
